{
  "nbformat": 4,
  "nbformat_minor": 0,
  "metadata": {
    "colab": {
      "provenance": []
    },
    "kernelspec": {
      "name": "python3",
      "display_name": "Python 3"
    },
    "language_info": {
      "name": "python"
    }
  },
  "cells": [
    {
      "cell_type": "markdown",
      "source": [
        " # Python Basic Assignment (No.1)\n",
        "\n",
        "1. What is Python, and why is it popular?\n",
        "-> Python is a high-level, interpreted programming language known for its simplicity, readability, and versatility. It was created by Guido van Rossum and first released in 1991. Python is often used for a wide variety of applications, from web development to data science and artificial intelligence.\n",
        "\n",
        "Reasons why Python is popular:\n",
        "Ease of Learning and Use: Python's syntax is clear and readable, making it an excellent choice for beginners. Its simplicity allows developers to write fewer lines of code to accomplish tasks compared to other languages.\n",
        "\n",
        "Versatility: Python is used in many fields, including web development (with frameworks like Django and Flask), data science (with libraries like Pandas and NumPy), machine learning (using TensorFlow, Keras, or Scikit-learn), automation, game development, and more.\n",
        "\n",
        "Large Community and Ecosystem: Python has a huge community of developers who contribute to a vast ecosystem of libraries, tools, and frameworks. This makes it easy to find solutions and resources to help with almost any problem.\n",
        "\n",
        "Cross-platform: Python is platform-independent, which means that Python programs can run on any operating system, such as Windows, macOS, or Linux, without requiring significant changes to the code.\n",
        "\n",
        "Integration Capabilities: Python can easily integrate with other languages and technologies. It's often used as a \"glue\" language to connect disparate systems.\n",
        "\n",
        "Extensive Libraries and Frameworks: The availability of powerful libraries like NumPy, Pandas, and Matplotlib for data manipulation and visualization, and TensorFlow, PyTorch, and Scikit-learn for machine learning, makes Python highly popular in data-driven fields.\n",
        "\n",
        "Strong Community Support: Python's active and supportive community means that questions can typically be answered quickly, and there's an abundance of tutorials, documentation, and forums.\n",
        "\n",
        "Open Source: Python is free to use and distribute, even for commercial purposes, which encourages widespread adoption.\n",
        "\n",
        "2. What is an interpreter in Python?\n",
        "-> In Python, an interpreter is a program that reads and executes Python code line-by-line. Unlike a compiler, which translates the entire code into machine code (or an intermediate representation) before execution, an interpreter processes the code directly and executes it step by step.\n",
        "\n",
        "3. What are pre-defined keywords in Python?\n",
        "-> In Python, pre-defined keywords (also known as reserved words) are special words that have specific meanings and functionality in the Python programming language. These keywords are reserved by Python and cannot be used as identifiers (like variable names, function names, etc.).\n",
        "   The purpose of these keywords is to define the syntax and structure of\n",
        "Python programs, and they are an essential part of the language.\n",
        "List of Python's Pre-defined Keywords:\n",
        "False\n",
        "None\n",
        "True\n",
        "and\n",
        "as\n",
        "assert\n",
        "break\n",
        "class\n",
        "continue\n",
        "def\n",
        "del\n",
        "elif\n",
        "else\n",
        "except\n",
        "finally\n",
        "for\n",
        "from\n",
        "global\n",
        "if\n",
        "import\n",
        "in\n",
        "is\n",
        "lambda\n",
        "nonlocal\n",
        "not\n",
        "or\n",
        "pass\n",
        "raise\n",
        "return\n",
        "try\n",
        "while\n",
        "with\n",
        "yield\n",
        "\n",
        "4. Can keywords be used as variable names?\n",
        "-> No, keywords in Python cannot be used as variable names. Keywords are reserved words that have special meanings in the Python language and are used to define the syntax and structure of Python programs. Attempting to use a keyword as a variable name will result in a SyntaxError.\n",
        "\n",
        "5. What is mutability in Python?\n",
        "-> Mutability in Python refers to whether an object can be modified after it is created. In simpler terms, a mutable object can be changed, while an immutable object cannot be changed once it is created.\n",
        "Examples: Lists, Dictionaries, Sets.\n",
        "\n",
        "6. Why are lists mutable, but tuples are immutable?\n",
        "-> The reason why lists are mutable and tuples are immutable in Python has to do with their intended use cases, design decisions for performance, and their behavior in various contexts.\n",
        "Lists are designed for dynamic data, where you might need to modify the contents of the list (e.g., adding, removing, or changing elements). Lists are typically used when the collection of items is expected to change over time.\n",
        "\n",
        "Tuples, on the other hand, are designed to represent fixed collections of items. Once a tuple is created, the elements are not meant to be changed, as tuples are intended to be used as constant data, such as representing coordinates, configuration settings, or collections that shouldn't change.\n",
        "\n",
        "7. What is the difference between “==” and “is” operators in Python?\n",
        "-> 1. \"==\" Operator (Equality)\n",
        "The \"==\" operator is used to compare the values of two objects. It checks whether the values stored in two variables are the same, regardless of whether they are the same object in memory.\n",
        "It evaluates to True if the values of the two objects being compared are the same.\n",
        "It works by calling the __eq__ method of the objects to check for value equality.\n",
        "2. \"is\" Operator (Identity)\n",
        "The \"is\" operator is used to compare the identity of two objects. It checks whether the two variables point to the same object in memory (i.e., whether they are the same object, not just equal in value).\n",
        "It evaluates to True if both variables point to the same object in memory.\n",
        "It checks if the two variables refer to the exact same object (by comparing their memory addresses).\n",
        "\n",
        "8. What are logical operators in Python?\n",
        "-> In Python, logical operators are used to combine conditional statements and evaluate boolean expressions. These operators return a boolean value (True or False) based on the conditions that are being tested.\n",
        "The three main logical operators in Python are:\n",
        " 1. and :\n",
        "    The \"and\" operator returns True if both conditions being compared are True.If either condition is False, the result is False.\n",
        " 2. or :\n",
        "    The \"or\" operator returns True if at least one of the conditions is True. If both conditions are False, the result is False.\n",
        " 3. not :\n",
        "    The \"not\" operator is used to invert the boolean value of a condition. If the condition is True, not will return False; if the condition is False, not will return True.\n",
        "\n",
        "9. What is type casting in Python?\n",
        "-> Type casting in Python refers to the conversion of one data type into another. Python provides a variety of functions to explicitly convert data between different types. This process is useful when you need to perform operations or comparisons between variables of different types.\n",
        "Two Types of Type Casting in Python:\n",
        "1. Implicit Type Casting.\n",
        "2. Explicit Type Casting.\n",
        "\n",
        "10. What is the difference between implicit and explicit type casting?\n",
        "->   Implicit Type Casting :\n",
        "  Implicit type casting, also known as type coercion, is done automatically by Python when it needs to convert one data type to another, usually when the conversion is safe and does not lose information. This occurs when a smaller data type is converted into a larger data type, and the conversion happens without any data loss.\n",
        "    Explicit Type Casting :\n",
        "  Explicit type casting (also called type conversion) is when you manually convert one data type to another using Python's built-in functions. This gives you more control over how the data is converted, especially when the conversion is between types that might not be compatible or could lead to data loss.\n",
        "\n",
        "11. What is the purpose of conditional statements in Python?\n",
        "->  Conditional statements in Python are used to perform different actions based on different conditions. They allow your program to make decisions, executing certain code only when specific conditions are true. This enables dynamic behavior in programs, as opposed to just running code sequentially.\n",
        "The Purpose of Conditional Statements:\n",
        " 1. Decision Making: They allow your program to execute different code based on certain conditions (e.g., if a number is positive or negative, if a user is logged in or not).\n",
        " 2. Flow Control: Conditional statements control the flow of the program by allowing some parts of the code to run only if certain conditions are met.\n",
        " 3. Handling Multiple Scenarios: They allow programs to handle various situations in different ways, ensuring the right action is taken under different circumstances.\n",
        "\n",
        " 12. How does the elif statement work?\n",
        " -> The elif statement in Python stands for \"else if\" and is used to check additional conditions when the initial if condition is not met. It allows you to test multiple conditions sequentially, executing the block of code corresponding to the first True condition, and ignoring the rest.\n",
        " How the elif Statement Works:\n",
        "First, Python checks the condition in the if statement.\n",
        "If the if condition is False, Python moves to the first elif condition and checks it.\n",
        "If the elif condition is also False, Python moves to the next elif (if any) and checks again.\n",
        "If all if and elif conditions are False, Python will execute the code in the else block (if provided).\n",
        "We can have multiple elif statements to test different conditions, but only the first True condition will execute.\n",
        "\n",
        "13. What is the difference between for and while loops?\n",
        "-> In Python, both for and while loops are used to repeat a block of code, but they work in different ways and are used in different scenarios. Here's a breakdown of the differences between the two types of loops:\n",
        "1. for Loop\n",
        "The for loop is used when you know how many times you want to repeat a block of code. It is typically used to iterate over a sequence (such as a list, tuple, string, or range).\n",
        "2. while Loop:\n",
        "The while loop, on the other hand, continues to execute a block of code as long as a condition remains True. It is typically used when you don't know the exact number of iterations beforehand and the loop should continue until a specific condition is met.\n",
        "\n",
        "14. Describe a scenario where a while loop is more suitable than a for loop.\n",
        "->  A while loop is more suitable than a for loop in scenarios where the number of iterations is not predetermined and depends on a condition that may change dynamically during the loop's execution. Specifically, when the loop needs to keep running until a specific condition is met, regardless of how many iterations are required.\n",
        "Scenario: User Input Validation\n",
        "Imagine you are creating a program that asks a user to input a valid password. You want the program to keep asking the user for a password until they enter a valid one, but you don’t know how many attempts the user will need. In this case, a while loop is perfect because the loop continues until the user provides the correct input.\n",
        "Why a while loop is suitable:\n",
        "Indeterminate number of iterations: You don’t know how many attempts the user will need to enter the correct password. The number of iterations depends on when the user enters the correct password, so a while loop works well because it will continue as long as the condition (valid password) is not met.\n",
        "Condition-based: The loop is controlled by the condition (if user_input == correct_password), which can change dynamically depending on user input.\n",
        "while loop: Ideal for situations where the stopping condition is based on real-time events or conditions that change during the execution of the loop (like user input, sensor readings, or waiting for a signal.\n",
        "\n",
        "                 * Practical Questions *\n",
        "1. Write a Python program to print \"Hello, World!\n",
        "\n"
      ],
      "metadata": {
        "id": "KsU2NKr6KLQE"
      }
    },
    {
      "cell_type": "code",
      "source": [
        "a= \"Hello,World!\"\n",
        "print(a)"
      ],
      "metadata": {
        "colab": {
          "base_uri": "https://localhost:8080/"
        },
        "id": "Lj2AeEM9chZY",
        "outputId": "a16c879b-25e8-4f66-9dec-ec932abfa969"
      },
      "execution_count": null,
      "outputs": [
        {
          "output_type": "stream",
          "name": "stdout",
          "text": [
            "Hello,World!\n"
          ]
        }
      ]
    },
    {
      "cell_type": "markdown",
      "source": [
        "2. Write a Python program that displays your name and age."
      ],
      "metadata": {
        "id": "j51dwZUVc3j8"
      }
    },
    {
      "cell_type": "code",
      "source": [
        "name = \"Aditi Patil\"\n",
        "age = 24\n",
        "print(\"Name:\", name)\n",
        "print(\"Age:\", age)\n"
      ],
      "metadata": {
        "colab": {
          "base_uri": "https://localhost:8080/"
        },
        "id": "_MFHvI_Jc7uz",
        "outputId": "1040f896-c7cf-465a-ed1b-4485cd80886c"
      },
      "execution_count": null,
      "outputs": [
        {
          "output_type": "stream",
          "name": "stdout",
          "text": [
            "Name: Aditi Patil\n",
            "Age: 24\n"
          ]
        }
      ]
    },
    {
      "cell_type": "markdown",
      "source": [
        "3. Write code to print all the pre-defined keywords in Python using the keyword library"
      ],
      "metadata": {
        "id": "vJJiBjWTdrGy"
      }
    },
    {
      "cell_type": "code",
      "source": [
        "import keyword\n",
        "print(\"Python Keywords:\")\n",
        "print(keyword.kwlist)"
      ],
      "metadata": {
        "colab": {
          "base_uri": "https://localhost:8080/"
        },
        "id": "R3_LgHYvdvFV",
        "outputId": "a7b090b5-7eea-4c67-ac58-ede23770c92f"
      },
      "execution_count": null,
      "outputs": [
        {
          "output_type": "stream",
          "name": "stdout",
          "text": [
            "Python Keywords:\n",
            "['False', 'None', 'True', 'and', 'as', 'assert', 'async', 'await', 'break', 'class', 'continue', 'def', 'del', 'elif', 'else', 'except', 'finally', 'for', 'from', 'global', 'if', 'import', 'in', 'is', 'lambda', 'nonlocal', 'not', 'or', 'pass', 'raise', 'return', 'try', 'while', 'with', 'yield']\n"
          ]
        }
      ]
    },
    {
      "cell_type": "markdown",
      "source": [
        "4. Write a program that checks if a given word is a Python keyword."
      ],
      "metadata": {
        "id": "gsKTs5lBe24N"
      }
    },
    {
      "cell_type": "code",
      "source": [
        "import keyword\n",
        "word = input(\"Enter a word: \")\n",
        "if keyword.iskeyword(word):\n",
        "    print(f\"'{word}' is a Python keyword.\")\n",
        "else:\n",
        "    print(f\"'{word}' is NOT a Python keyword.\")"
      ],
      "metadata": {
        "colab": {
          "base_uri": "https://localhost:8080/"
        },
        "id": "zhHZrf0Ee8lE",
        "outputId": "e7f64187-1ff9-41d0-9e25-2bd22845571f"
      },
      "execution_count": null,
      "outputs": [
        {
          "output_type": "stream",
          "name": "stdout",
          "text": [
            "Enter a word: True\n",
            "'True' is a Python keyword.\n"
          ]
        }
      ]
    },
    {
      "cell_type": "markdown",
      "source": [
        "5. Create a list and tuple in Python, and demonstrate how attempting to change an element works differently for each."
      ],
      "metadata": {
        "id": "IGD_ZBj8fzm9"
      }
    },
    {
      "cell_type": "code",
      "source": [
        "my_list = [1, 2, 3, 4, 5]\n",
        "my_tuple = (1, 2, 3, 4, 5)\n",
        "print(\"Original list:\", my_list)\n",
        "my_list[2] = 10\n",
        "print(\"Modified list:\", my_list)\n",
        "print(\"\\nOriginal tuple:\", my_tuple)\n",
        "try:\n",
        "    my_tuple[2] = 10\n",
        "except TypeError as e:\n",
        "    print(\"Error while modifying tuple:\", e)"
      ],
      "metadata": {
        "colab": {
          "base_uri": "https://localhost:8080/"
        },
        "id": "zBZcgXXef8CP",
        "outputId": "b3a72912-bbfe-4a59-f4e3-4482fdc107e0"
      },
      "execution_count": null,
      "outputs": [
        {
          "output_type": "stream",
          "name": "stdout",
          "text": [
            "Original list: [1, 2, 3, 4, 5]\n",
            "Modified list: [1, 2, 10, 4, 5]\n",
            "\n",
            "Original tuple: (1, 2, 3, 4, 5)\n",
            "Error while modifying tuple: 'tuple' object does not support item assignment\n"
          ]
        }
      ]
    },
    {
      "cell_type": "markdown",
      "source": [
        "6. Write a function to demonstrate the behavior of mutable and immutable arguments."
      ],
      "metadata": {
        "id": "Yx2wfND3goBK"
      }
    },
    {
      "cell_type": "code",
      "source": [
        "mutable_list = [1, 2, 3]\n",
        "immutable_number = 5\n",
        "\n",
        "print(\"Before function call:\")\n",
        "print(\"Mutable list:\", mutable_list)\n",
        "print(\"Immutable number:\", immutable_number)\n",
        "\n",
        "# Calling the function\n",
        "modify_arguments(mutable_list, immutable_number)\n",
        "\n",
        "print(\"\\nAfter function call:\")\n",
        "print(\"Mutable list:\", mutable_list)\n",
        "print(\"Immutable number:\", immutable_number)\n"
      ],
      "metadata": {
        "colab": {
          "base_uri": "https://localhost:8080/"
        },
        "id": "s-IqlVdMgt51",
        "outputId": "39424d94-a6d2-47b4-fe56-783657b2a1c9"
      },
      "execution_count": null,
      "outputs": [
        {
          "output_type": "stream",
          "name": "stdout",
          "text": [
            "Before function call:\n",
            "Mutable list: [1, 2, 3]\n",
            "Immutable number: 5\n",
            "Inside function:\n",
            "Mutable argument: [1, 2, 3, 10]\n",
            "Immutable argument: 10\n",
            "\n",
            "After function call:\n",
            "Mutable list: [1, 2, 3, 10]\n",
            "Immutable number: 5\n"
          ]
        }
      ]
    },
    {
      "cell_type": "markdown",
      "source": [
        "7. Write a function to demonstrate the behavior of mutable and immutable arguments."
      ],
      "metadata": {
        "id": "R_AoLZpPhzcA"
      }
    },
    {
      "cell_type": "code",
      "source": [
        "mutable_list = [1, 2, 3]\n",
        "immutable_number = 5\n",
        "\n",
        "print(\"Before function call:\")\n",
        "print(\"Mutable list:\", mutable_list)\n",
        "print(\"Immutable number:\", immutable_number)\n",
        "\n",
        "# Calling the function\n",
        "modify_arguments(mutable_list, immutable_number)\n",
        "\n",
        "print(\"\\nAfter function call:\")\n",
        "print(\"Mutable list:\", mutable_list)\n",
        "print(\"Immutable number:\", immutable_number)"
      ],
      "metadata": {
        "colab": {
          "base_uri": "https://localhost:8080/"
        },
        "id": "qzGt_n15iebE",
        "outputId": "26f73edf-2624-432d-dd1e-0d1b6e27b140"
      },
      "execution_count": null,
      "outputs": [
        {
          "output_type": "stream",
          "name": "stdout",
          "text": [
            "Before function call:\n",
            "Mutable list: [1, 2, 3]\n",
            "Immutable number: 5\n",
            "Inside function:\n",
            "Mutable argument: [1, 2, 3, 10]\n",
            "Immutable argument: 10\n",
            "\n",
            "After function call:\n",
            "Mutable list: [1, 2, 3, 10]\n",
            "Immutable number: 5\n",
            "Before function call:\n",
            "Mutable list: [1, 2, 3]\n",
            "Immutable number: 5\n",
            "Inside function:\n",
            "Mutable argument: [1, 2, 3, 10]\n",
            "Immutable argument: 10\n",
            "\n",
            "After function call:\n",
            "Mutable list: [1, 2, 3, 10]\n",
            "Immutable number: 5\n"
          ]
        }
      ]
    },
    {
      "cell_type": "markdown",
      "source": [
        "8. Write a program to demonstrate the use of logical operators."
      ],
      "metadata": {
        "id": "mw01xfcUi3bn"
      }
    },
    {
      "cell_type": "code",
      "source": [
        "def logical_operators_demo():\n",
        "    x = int(input(\"Enter a number for x: \"))\n",
        "    y = int(input(\"Enter a number for y: \"))\n",
        "     # Using 'and' logical operator\n",
        "    print(\"\\nUsing 'and' operator:\")\n",
        "    if x > 0 and y > 0:\n",
        "        print(f\"Both x ({x}) and y ({y}) are positive.\")\n",
        "    else:\n",
        "        print(f\"Either x ({x}) or y ({y}) is not positive.\")\n",
        "        print(\"\\nUsing 'or' operator:\")\n",
        "    if x > 0 or y > 0:\n",
        "        print(f\"At least one of x ({x}) or y ({y}) is positive.\")\n",
        "    else:\n",
        "        print(f\"Neither x ({x}) nor y ({y}) is positive.\")\n",
        " # Using 'not' logical operator\n",
        "    print(\"\\nUsing 'not' operator:\")\n",
        "    if not(x == y):\n",
        "        print(f\"x ({x}) is not equal to y ({y}).\")\n",
        "    else:\n",
        "        print(f\"x ({x}) is equal to y ({y}).\")\n",
        "\n",
        "# Run the logical operators demo\n",
        "logical_operators_demo()\n"
      ],
      "metadata": {
        "colab": {
          "base_uri": "https://localhost:8080/"
        },
        "id": "MTdjAVsVjCyN",
        "outputId": "f3177cb5-5c81-46f9-fc70-33d154eba7c4"
      },
      "execution_count": null,
      "outputs": [
        {
          "output_type": "stream",
          "name": "stdout",
          "text": [
            "Enter a number for x: 21\n",
            "Enter a number for y: 12\n",
            "\n",
            "Using 'and' operator:\n",
            "Both x (21) and y (12) are positive.\n",
            "At least one of x (21) or y (12) is positive.\n",
            "\n",
            "Using 'not' operator:\n",
            "x (21) is not equal to y (12).\n"
          ]
        }
      ]
    },
    {
      "cell_type": "markdown",
      "source": [
        "9. Write a Python program to convert user input from string to integer, float, and boolean types"
      ],
      "metadata": {
        "id": "5UVumow0kLxU"
      }
    },
    {
      "cell_type": "code",
      "source": [
        "def convert_user_input():\n",
        "    # Take user input as a string\n",
        "    user_input = input(\"Enter a value: \")\n",
        "\n",
        "    # Convert the input to an integer\n",
        "    try:\n",
        "        integer_value = int(user_input)\n",
        "        print(f\"Converted to Integer: {integer_value}\")\n",
        "    except ValueError:\n",
        "        print(\"Could not convert to Integer.\")\n",
        "\n",
        "    # Convert the input to a float\n",
        "    try:\n",
        "        float_value = float(user_input)\n",
        "        print(f\"Converted to Float: {float_value}\")\n",
        "    except ValueError:\n",
        "        print(\"Could not convert to Float.\")\n",
        "\n",
        "    # Convert the input to a boolean\n",
        "    if user_input.lower() in ['true', '1', 't', 'yes', 'y']:\n",
        "        boolean_value = True\n",
        "    elif user_input.lower() in ['false', '0', 'f', 'no', 'n']:\n",
        "        boolean_value = False\n",
        "    else:\n",
        "        print(\"Could not convert to Boolean.\")\n",
        "        return\n",
        "\n",
        "    print(f\"Converted to Boolean: {boolean_value}\")\n",
        "\n",
        "# Run the program\n",
        "convert_user_input()"
      ],
      "metadata": {
        "colab": {
          "base_uri": "https://localhost:8080/"
        },
        "id": "nXeiJOTAkNbD",
        "outputId": "97966092-30bb-4b9b-f5a6-4e48c7200d51"
      },
      "execution_count": null,
      "outputs": [
        {
          "output_type": "stream",
          "name": "stdout",
          "text": [
            "Enter a value: 12\n",
            "Converted to Integer: 12\n",
            "Converted to Float: 12.0\n",
            "Could not convert to Boolean.\n"
          ]
        }
      ]
    },
    {
      "cell_type": "markdown",
      "source": [
        "10. Write code to demonstrate type casting with list elements."
      ],
      "metadata": {
        "id": "CM5r7bJ_kyQg"
      }
    },
    {
      "cell_type": "code",
      "source": [
        "def demonstrate_type_casting_with_list():\n",
        "    # Original list of elements as strings\n",
        "    string_list = ['1', '2', '3', '4.5', 'True']\n",
        "\n",
        "    print(\"Original List (Strings):\", string_list)\n",
        "\n",
        "    # Convert all string elements to integers\n",
        "    try:\n",
        "        int_list = [int(item) for item in string_list if item.replace('.', '', 1).isdigit()]\n",
        "        print(\"\\nList after converting string elements to integers:\", int_list)\n",
        "    except ValueError:\n",
        "        print(\"Error in conversion to integer.\")\n",
        "\n",
        "    # Convert all string elements to floats\n",
        "    try:\n",
        "        float_list = [float(item) if item.replace('.', '', 1).isdigit() else 0.0 for item in string_list]\n",
        "        print(\"\\nList after converting string elements to floats:\", float_list)\n",
        "    except ValueError:\n",
        "        print(\"Error in conversion to float.\")\n",
        "\n",
        "    # Convert all string elements to booleans\n",
        "    bool_list = [True if item.lower() in ['true', '1', 't', 'yes', 'y'] else False for item in string_list]\n",
        "    print(\"\\nList after converting string elements to booleans:\", bool_list)\n",
        "\n",
        "    # Convert list of integers to strings\n",
        "    int_to_str_list = [str(item) for item in int_list]\n",
        "    print(\"\\nList after converting integers back to strings:\", int_to_str_list)\n",
        "\n",
        "# Run the type casting demonstration\n",
        "demonstrate_type_casting_with_list()"
      ],
      "metadata": {
        "colab": {
          "base_uri": "https://localhost:8080/",
          "height": 402
        },
        "id": "FYoluOfNlelp",
        "outputId": "1848e262-e980-4543-964f-686bb8ba420b"
      },
      "execution_count": null,
      "outputs": [
        {
          "output_type": "stream",
          "name": "stdout",
          "text": [
            "Original List (Strings): ['1', '2', '3', '4.5', 'True']\n",
            "Error in conversion to integer.\n",
            "\n",
            "List after converting string elements to floats: [1.0, 2.0, 3.0, 4.5, 0.0]\n",
            "\n",
            "List after converting string elements to booleans: [True, False, False, False, True]\n"
          ]
        },
        {
          "output_type": "error",
          "ename": "UnboundLocalError",
          "evalue": "cannot access local variable 'int_list' where it is not associated with a value",
          "traceback": [
            "\u001b[0;31m---------------------------------------------------------------------------\u001b[0m",
            "\u001b[0;31mUnboundLocalError\u001b[0m                         Traceback (most recent call last)",
            "\u001b[0;32m<ipython-input-35-7e878b0f4b7f>\u001b[0m in \u001b[0;36m<cell line: 0>\u001b[0;34m()\u001b[0m\n\u001b[1;32m     28\u001b[0m \u001b[0;34m\u001b[0m\u001b[0m\n\u001b[1;32m     29\u001b[0m \u001b[0;31m# Run the type casting demonstration\u001b[0m\u001b[0;34m\u001b[0m\u001b[0;34m\u001b[0m\u001b[0m\n\u001b[0;32m---> 30\u001b[0;31m \u001b[0mdemonstrate_type_casting_with_list\u001b[0m\u001b[0;34m(\u001b[0m\u001b[0;34m)\u001b[0m\u001b[0;34m\u001b[0m\u001b[0;34m\u001b[0m\u001b[0m\n\u001b[0m",
            "\u001b[0;32m<ipython-input-35-7e878b0f4b7f>\u001b[0m in \u001b[0;36mdemonstrate_type_casting_with_list\u001b[0;34m()\u001b[0m\n\u001b[1;32m     24\u001b[0m \u001b[0;34m\u001b[0m\u001b[0m\n\u001b[1;32m     25\u001b[0m     \u001b[0;31m# Convert list of integers to strings\u001b[0m\u001b[0;34m\u001b[0m\u001b[0;34m\u001b[0m\u001b[0m\n\u001b[0;32m---> 26\u001b[0;31m     \u001b[0mint_to_str_list\u001b[0m \u001b[0;34m=\u001b[0m \u001b[0;34m[\u001b[0m\u001b[0mstr\u001b[0m\u001b[0;34m(\u001b[0m\u001b[0mitem\u001b[0m\u001b[0;34m)\u001b[0m \u001b[0;32mfor\u001b[0m \u001b[0mitem\u001b[0m \u001b[0;32min\u001b[0m \u001b[0mint_list\u001b[0m\u001b[0;34m]\u001b[0m\u001b[0;34m\u001b[0m\u001b[0;34m\u001b[0m\u001b[0m\n\u001b[0m\u001b[1;32m     27\u001b[0m     \u001b[0mprint\u001b[0m\u001b[0;34m(\u001b[0m\u001b[0;34m\"\\nList after converting integers back to strings:\"\u001b[0m\u001b[0;34m,\u001b[0m \u001b[0mint_to_str_list\u001b[0m\u001b[0;34m)\u001b[0m\u001b[0;34m\u001b[0m\u001b[0;34m\u001b[0m\u001b[0m\n\u001b[1;32m     28\u001b[0m \u001b[0;34m\u001b[0m\u001b[0m\n",
            "\u001b[0;31mUnboundLocalError\u001b[0m: cannot access local variable 'int_list' where it is not associated with a value"
          ]
        }
      ]
    },
    {
      "cell_type": "markdown",
      "source": [
        "11. Write a program that checks if a number is positive, negative, or zero."
      ],
      "metadata": {
        "id": "bAIQtHCAllaP"
      }
    },
    {
      "cell_type": "code",
      "source": [
        "def check_number():\n",
        "    num = float(input(\"Enter a number: \"))\n",
        "    if num > 0:\n",
        "        print(\"The number is positive.\")\n",
        "    elif num < 0:\n",
        "        print(\"The number is negative.\")\n",
        "    else:\n",
        "        print(\"The number is zero.\")\n",
        "check_number()"
      ],
      "metadata": {
        "colab": {
          "base_uri": "https://localhost:8080/"
        },
        "id": "iim3LF8HlumN",
        "outputId": "49c3d5d2-2b85-448b-cd4f-4787c4acf209"
      },
      "execution_count": null,
      "outputs": [
        {
          "output_type": "stream",
          "name": "stdout",
          "text": [
            "Enter a number: 0\n",
            "The number is zero.\n"
          ]
        }
      ]
    },
    {
      "cell_type": "markdown",
      "source": [
        "12. Write a for loop to print numbers from 1 to 10."
      ],
      "metadata": {
        "id": "MiG147IOmliA"
      }
    },
    {
      "cell_type": "code",
      "source": [
        "for i in range(1, 11):\n",
        "    print(i)"
      ],
      "metadata": {
        "colab": {
          "base_uri": "https://localhost:8080/"
        },
        "id": "LGZ77sx9m5Cg",
        "outputId": "350ee0cc-1a73-46ff-9758-dd48593f5c8e"
      },
      "execution_count": null,
      "outputs": [
        {
          "output_type": "stream",
          "name": "stdout",
          "text": [
            "1\n",
            "2\n",
            "3\n",
            "4\n",
            "5\n",
            "6\n",
            "7\n",
            "8\n",
            "9\n",
            "10\n"
          ]
        }
      ]
    },
    {
      "cell_type": "markdown",
      "source": [
        "13. Write a Python program to find the sum of all even numbers between 1 and 50"
      ],
      "metadata": {
        "id": "GI6ibhrrnAdi"
      }
    },
    {
      "cell_type": "code",
      "source": [
        "even_sum = 0\n",
        "for num in range(1, 51):\n",
        "    if num % 2 == 0:\n",
        "        even_sum += num\n",
        "print(\"The sum of all even numbers between 1 and 50 is:\", even_sum)"
      ],
      "metadata": {
        "colab": {
          "base_uri": "https://localhost:8080/"
        },
        "id": "fm9YXLSvnKgd",
        "outputId": "ad40df7e-8307-4a07-e6f5-03888bd3f1da"
      },
      "execution_count": null,
      "outputs": [
        {
          "output_type": "stream",
          "name": "stdout",
          "text": [
            "The sum of all even numbers between 1 and 50 is: 650\n"
          ]
        }
      ]
    },
    {
      "cell_type": "markdown",
      "source": [
        "14. Write a program to reverse a string using a while loop."
      ],
      "metadata": {
        "id": "dyWioJxFnRSH"
      }
    },
    {
      "cell_type": "code",
      "source": [
        "\n",
        "\n",
        "    user_input = input(\"Enter a string: \")\n",
        "\n",
        "\n",
        "    reversed_str = \"\"\n",
        "\n",
        "\n",
        "    index = len(user_input) - 1\n",
        "\n",
        "\n",
        "    while index >= 0:\n",
        "        reversed_str += user_input[index]\n",
        "        index -= 1\n",
        "\n",
        "    print(\"Reversed string:\", reversed_str)\n",
        "\n",
        "\n"
      ],
      "metadata": {
        "colab": {
          "base_uri": "https://localhost:8080/",
          "height": 356
        },
        "id": "7HtQiM_unsib",
        "outputId": "76120800-d2a9-4b0a-bbfe-7352a69b2522"
      },
      "execution_count": null,
      "outputs": [
        {
          "output_type": "error",
          "ename": "KeyboardInterrupt",
          "evalue": "Interrupted by user",
          "traceback": [
            "\u001b[0;31m---------------------------------------------------------------------------\u001b[0m",
            "\u001b[0;31mKeyboardInterrupt\u001b[0m                         Traceback (most recent call last)",
            "\u001b[0;32m<ipython-input-60-dac699c9993b>\u001b[0m in \u001b[0;36m<cell line: 0>\u001b[0;34m()\u001b[0m\n\u001b[0;32m----> 1\u001b[0;31m \u001b[0muser_input\u001b[0m \u001b[0;34m=\u001b[0m \u001b[0minput\u001b[0m\u001b[0;34m(\u001b[0m\u001b[0;34m\"Enter a string: \"\u001b[0m\u001b[0;34m)\u001b[0m\u001b[0;34m\u001b[0m\u001b[0;34m\u001b[0m\u001b[0m\n\u001b[0m\u001b[1;32m      2\u001b[0m \u001b[0;34m\u001b[0m\u001b[0m\n\u001b[1;32m      3\u001b[0m \u001b[0;34m\u001b[0m\u001b[0m\n\u001b[1;32m      4\u001b[0m \u001b[0mreversed_str\u001b[0m \u001b[0;34m=\u001b[0m \u001b[0;34m\"\"\u001b[0m\u001b[0;34m\u001b[0m\u001b[0;34m\u001b[0m\u001b[0m\n\u001b[1;32m      5\u001b[0m \u001b[0;34m\u001b[0m\u001b[0m\n",
            "\u001b[0;32m/usr/local/lib/python3.11/dist-packages/ipykernel/kernelbase.py\u001b[0m in \u001b[0;36mraw_input\u001b[0;34m(self, prompt)\u001b[0m\n\u001b[1;32m   1175\u001b[0m                 \u001b[0;34m\"raw_input was called, but this frontend does not support input requests.\"\u001b[0m\u001b[0;34m\u001b[0m\u001b[0;34m\u001b[0m\u001b[0m\n\u001b[1;32m   1176\u001b[0m             )\n\u001b[0;32m-> 1177\u001b[0;31m         return self._input_request(\n\u001b[0m\u001b[1;32m   1178\u001b[0m             \u001b[0mstr\u001b[0m\u001b[0;34m(\u001b[0m\u001b[0mprompt\u001b[0m\u001b[0;34m)\u001b[0m\u001b[0;34m,\u001b[0m\u001b[0;34m\u001b[0m\u001b[0;34m\u001b[0m\u001b[0m\n\u001b[1;32m   1179\u001b[0m             \u001b[0mself\u001b[0m\u001b[0;34m.\u001b[0m\u001b[0m_parent_ident\u001b[0m\u001b[0;34m[\u001b[0m\u001b[0;34m\"shell\"\u001b[0m\u001b[0;34m]\u001b[0m\u001b[0;34m,\u001b[0m\u001b[0;34m\u001b[0m\u001b[0;34m\u001b[0m\u001b[0m\n",
            "\u001b[0;32m/usr/local/lib/python3.11/dist-packages/ipykernel/kernelbase.py\u001b[0m in \u001b[0;36m_input_request\u001b[0;34m(self, prompt, ident, parent, password)\u001b[0m\n\u001b[1;32m   1217\u001b[0m             \u001b[0;32mexcept\u001b[0m \u001b[0mKeyboardInterrupt\u001b[0m\u001b[0;34m:\u001b[0m\u001b[0;34m\u001b[0m\u001b[0;34m\u001b[0m\u001b[0m\n\u001b[1;32m   1218\u001b[0m                 \u001b[0;31m# re-raise KeyboardInterrupt, to truncate traceback\u001b[0m\u001b[0;34m\u001b[0m\u001b[0;34m\u001b[0m\u001b[0m\n\u001b[0;32m-> 1219\u001b[0;31m                 \u001b[0;32mraise\u001b[0m \u001b[0mKeyboardInterrupt\u001b[0m\u001b[0;34m(\u001b[0m\u001b[0;34m\"Interrupted by user\"\u001b[0m\u001b[0;34m)\u001b[0m \u001b[0;32mfrom\u001b[0m \u001b[0;32mNone\u001b[0m\u001b[0;34m\u001b[0m\u001b[0;34m\u001b[0m\u001b[0m\n\u001b[0m\u001b[1;32m   1220\u001b[0m             \u001b[0;32mexcept\u001b[0m \u001b[0mException\u001b[0m\u001b[0;34m:\u001b[0m\u001b[0;34m\u001b[0m\u001b[0;34m\u001b[0m\u001b[0m\n\u001b[1;32m   1221\u001b[0m                 \u001b[0mself\u001b[0m\u001b[0;34m.\u001b[0m\u001b[0mlog\u001b[0m\u001b[0;34m.\u001b[0m\u001b[0mwarning\u001b[0m\u001b[0;34m(\u001b[0m\u001b[0;34m\"Invalid Message:\"\u001b[0m\u001b[0;34m,\u001b[0m \u001b[0mexc_info\u001b[0m\u001b[0;34m=\u001b[0m\u001b[0;32mTrue\u001b[0m\u001b[0;34m)\u001b[0m\u001b[0;34m\u001b[0m\u001b[0;34m\u001b[0m\u001b[0m\n",
            "\u001b[0;31mKeyboardInterrupt\u001b[0m: Interrupted by user"
          ]
        }
      ]
    },
    {
      "cell_type": "markdown",
      "source": [
        "15. Write a Python program to calculate the factorial of a number provided by the user using a while loop."
      ],
      "metadata": {
        "id": "S3ZNxVCBplTc"
      }
    },
    {
      "cell_type": "code",
      "source": [
        "num = int(input(\"Enter a number to calculate its factorial: \"))\n",
        "\n",
        "    # Initialize variables\n",
        "    factorial = 1\n",
        "    count = 1\n",
        "\n",
        "    # Use a while loop to calculate factorial\n",
        "    while count <= num:\n",
        "        factorial *= count  # Multiply the current factorial by the count\n",
        "        count += 1  # Increment count to move to the next number\n",
        "\n",
        "    # Output the result\n",
        "    print(f\"The factorial of {num} is: {factorial}\")"
      ],
      "metadata": {
        "id": "wvs5nbLWquA-",
        "outputId": "d8264f09-1ad4-43c4-9a08-bc7130c079bf",
        "colab": {
          "base_uri": "https://localhost:8080/",
          "height": 106
        }
      },
      "execution_count": null,
      "outputs": [
        {
          "output_type": "error",
          "ename": "IndentationError",
          "evalue": "unexpected indent (<ipython-input-73-6d6e32f961ea>, line 4)",
          "traceback": [
            "\u001b[0;36m  File \u001b[0;32m\"<ipython-input-73-6d6e32f961ea>\"\u001b[0;36m, line \u001b[0;32m4\u001b[0m\n\u001b[0;31m    factorial = 1\u001b[0m\n\u001b[0m    ^\u001b[0m\n\u001b[0;31mIndentationError\u001b[0m\u001b[0;31m:\u001b[0m unexpected indent\n"
          ]
        }
      ]
    }
  ]
}